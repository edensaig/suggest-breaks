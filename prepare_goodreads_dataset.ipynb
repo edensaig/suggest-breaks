{
 "cells": [
  {
   "cell_type": "code",
   "execution_count": 1,
   "id": "35655d8b-93de-4fe7-98f6-1010c08ebbe8",
   "metadata": {},
   "outputs": [],
   "source": [
    "import pandas as pd\n",
    "import json\n",
    "import gzip\n",
    "import os\n",
    "from tqdm.auto import tqdm"
   ]
  },
  {
   "cell_type": "code",
   "execution_count": 2,
   "id": "da5718f5-ae52-4fd5-a637-d26ebb9929a4",
   "metadata": {},
   "outputs": [
    {
     "data": {
      "application/vnd.jupyter.widget-view+json": {
       "model_id": "ae90a0b5fe9c48ee9ba35cbe65d10dad",
       "version_major": 2,
       "version_minor": 0
      },
      "text/plain": [
       "0it [00:00, ?it/s]"
      ]
     },
     "metadata": {},
     "output_type": "display_data"
    },
    {
     "name": "stdout",
     "output_type": "stream",
     "text": [
      "Total: 7347630 interactions\n",
      "Rated: 4514094 interactions (61.44%)\n"
     ]
    }
   ],
   "source": [
    "base_dir = os.path.expanduser('~/Documents/lvml/datasets')\n",
    "input_path = f'{base_dir}/goodreads_interactions_comics_graphic.json.gz'\n",
    "\n",
    "entries = []\n",
    "with gzip.open(input_path,'r') as f:\n",
    "    n_lines_total = 0\n",
    "    n_lines_valid = 0\n",
    "    for line in tqdm(f):\n",
    "        entry = json.loads(line)\n",
    "        if entry['rating'] > 0:\n",
    "            entries.append(entry)\n",
    "            n_lines_valid += 1\n",
    "        n_lines_total += 1\n",
    "\n",
    "print(f'Total: {n_lines_total} interactions')\n",
    "print(f'Rated: {n_lines_valid} interactions ({n_lines_valid/n_lines_total:.2%})')\n"
   ]
  },
  {
   "cell_type": "code",
   "execution_count": 3,
   "id": "d6cfa52a-73d0-4032-af9e-00904e5f2c57",
   "metadata": {},
   "outputs": [
    {
     "data": {
      "text/html": [
       "<div>\n",
       "<style scoped>\n",
       "    .dataframe tbody tr th:only-of-type {\n",
       "        vertical-align: middle;\n",
       "    }\n",
       "\n",
       "    .dataframe tbody tr th {\n",
       "        vertical-align: top;\n",
       "    }\n",
       "\n",
       "    .dataframe thead th {\n",
       "        text-align: right;\n",
       "    }\n",
       "</style>\n",
       "<table border=\"1\" class=\"dataframe\">\n",
       "  <thead>\n",
       "    <tr style=\"text-align: right;\">\n",
       "      <th></th>\n",
       "      <th>user_id</th>\n",
       "      <th>book_id</th>\n",
       "      <th>review_id</th>\n",
       "      <th>is_read</th>\n",
       "      <th>rating</th>\n",
       "      <th>review_text_incomplete</th>\n",
       "      <th>date_added</th>\n",
       "      <th>date_updated</th>\n",
       "      <th>read_at</th>\n",
       "      <th>started_at</th>\n",
       "    </tr>\n",
       "  </thead>\n",
       "  <tbody>\n",
       "    <tr>\n",
       "      <th>0</th>\n",
       "      <td>8842281e1d1347389f2ab93d60773d4d</td>\n",
       "      <td>24815</td>\n",
       "      <td>281e647d84a8581c9b2b3957156f58fb</td>\n",
       "      <td>True</td>\n",
       "      <td>5</td>\n",
       "      <td></td>\n",
       "      <td>Thu Apr 17 23:42:49 -0700 2008</td>\n",
       "      <td>Thu Apr 17 23:42:49 -0700 2008</td>\n",
       "      <td></td>\n",
       "      <td></td>\n",
       "    </tr>\n",
       "    <tr>\n",
       "      <th>1</th>\n",
       "      <td>8842281e1d1347389f2ab93d60773d4d</td>\n",
       "      <td>24818</td>\n",
       "      <td>96d10c7701527f0353d5b016fc79200d</td>\n",
       "      <td>True</td>\n",
       "      <td>5</td>\n",
       "      <td></td>\n",
       "      <td>Thu Apr 17 23:42:42 -0700 2008</td>\n",
       "      <td>Thu Apr 17 23:42:42 -0700 2008</td>\n",
       "      <td></td>\n",
       "      <td></td>\n",
       "    </tr>\n",
       "    <tr>\n",
       "      <th>2</th>\n",
       "      <td>8842281e1d1347389f2ab93d60773d4d</td>\n",
       "      <td>59715</td>\n",
       "      <td>d1b70d94aa49bb0e3ff855805ed5c172</td>\n",
       "      <td>True</td>\n",
       "      <td>5</td>\n",
       "      <td></td>\n",
       "      <td>Thu Apr 17 23:42:40 -0700 2008</td>\n",
       "      <td>Thu Apr 17 23:42:40 -0700 2008</td>\n",
       "      <td></td>\n",
       "      <td></td>\n",
       "    </tr>\n",
       "    <tr>\n",
       "      <th>3</th>\n",
       "      <td>8842281e1d1347389f2ab93d60773d4d</td>\n",
       "      <td>24816</td>\n",
       "      <td>66034d49dac62288c5e7ed4ebf7c8c3b</td>\n",
       "      <td>True</td>\n",
       "      <td>5</td>\n",
       "      <td></td>\n",
       "      <td>Thu Apr 17 23:42:38 -0700 2008</td>\n",
       "      <td>Thu Apr 17 23:42:38 -0700 2008</td>\n",
       "      <td></td>\n",
       "      <td></td>\n",
       "    </tr>\n",
       "    <tr>\n",
       "      <th>4</th>\n",
       "      <td>7504b2aee1ecb5b2872d3da381c6c91e</td>\n",
       "      <td>13284343</td>\n",
       "      <td>eec681b896b88ab6858d3999e7c6b825</td>\n",
       "      <td>True</td>\n",
       "      <td>4</td>\n",
       "      <td></td>\n",
       "      <td>Thu Jun 07 11:38:13 -0700 2012</td>\n",
       "      <td>Thu Jun 07 11:38:18 -0700 2012</td>\n",
       "      <td></td>\n",
       "      <td></td>\n",
       "    </tr>\n",
       "  </tbody>\n",
       "</table>\n",
       "</div>"
      ],
      "text/plain": [
       "                            user_id   book_id  \\\n",
       "0  8842281e1d1347389f2ab93d60773d4d     24815   \n",
       "1  8842281e1d1347389f2ab93d60773d4d     24818   \n",
       "2  8842281e1d1347389f2ab93d60773d4d     59715   \n",
       "3  8842281e1d1347389f2ab93d60773d4d     24816   \n",
       "4  7504b2aee1ecb5b2872d3da381c6c91e  13284343   \n",
       "\n",
       "                          review_id  is_read  rating review_text_incomplete  \\\n",
       "0  281e647d84a8581c9b2b3957156f58fb     True       5                          \n",
       "1  96d10c7701527f0353d5b016fc79200d     True       5                          \n",
       "2  d1b70d94aa49bb0e3ff855805ed5c172     True       5                          \n",
       "3  66034d49dac62288c5e7ed4ebf7c8c3b     True       5                          \n",
       "4  eec681b896b88ab6858d3999e7c6b825     True       4                          \n",
       "\n",
       "                       date_added                    date_updated read_at  \\\n",
       "0  Thu Apr 17 23:42:49 -0700 2008  Thu Apr 17 23:42:49 -0700 2008           \n",
       "1  Thu Apr 17 23:42:42 -0700 2008  Thu Apr 17 23:42:42 -0700 2008           \n",
       "2  Thu Apr 17 23:42:40 -0700 2008  Thu Apr 17 23:42:40 -0700 2008           \n",
       "3  Thu Apr 17 23:42:38 -0700 2008  Thu Apr 17 23:42:38 -0700 2008           \n",
       "4  Thu Jun 07 11:38:13 -0700 2012  Thu Jun 07 11:38:18 -0700 2012           \n",
       "\n",
       "  started_at  \n",
       "0             \n",
       "1             \n",
       "2             \n",
       "3             \n",
       "4             "
      ]
     },
     "execution_count": 3,
     "metadata": {},
     "output_type": "execute_result"
    }
   ],
   "source": [
    "df = pd.DataFrame(entries)\n",
    "df.head()"
   ]
  },
  {
   "cell_type": "code",
   "execution_count": 4,
   "id": "e1370675-19c3-441e-aeb5-be4194cec99e",
   "metadata": {},
   "outputs": [
    {
     "name": "stdout",
     "output_type": "stream",
     "text": [
      "41932 distinct users with 20 ratings or more\n"
     ]
    }
   ],
   "source": [
    "n_ratings_threshold = 20\n",
    "users_wl = (\n",
    "    df['user_id']\n",
    "    .value_counts()\n",
    "    .where(lambda x: x>=n_ratings_threshold)\n",
    "    .dropna()\n",
    "    .pipe(lambda s: set(s.index))\n",
    ")\n",
    "print(f'{len(users_wl)} distinct users with {n_ratings_threshold} ratings or more')"
   ]
  },
  {
   "cell_type": "code",
   "execution_count": 5,
   "id": "db6947aa-f838-4913-acc7-c3a92c032d3e",
   "metadata": {},
   "outputs": [],
   "source": [
    "# Assert that each user-book pair is unique\n",
    "assert df.groupby(['user_id','book_id']).ngroups==len(df)"
   ]
  },
  {
   "cell_type": "code",
   "execution_count": 6,
   "id": "7b69ea5b-e638-49a3-b64f-9c5d6e86b716",
   "metadata": {},
   "outputs": [
    {
     "name": "stdout",
     "output_type": "stream",
     "text": [
      "3679076 rows in user-whitelisted df\n"
     ]
    },
    {
     "data": {
      "text/html": [
       "<div>\n",
       "<style scoped>\n",
       "    .dataframe tbody tr th:only-of-type {\n",
       "        vertical-align: middle;\n",
       "    }\n",
       "\n",
       "    .dataframe tbody tr th {\n",
       "        vertical-align: top;\n",
       "    }\n",
       "\n",
       "    .dataframe thead th {\n",
       "        text-align: right;\n",
       "    }\n",
       "</style>\n",
       "<table border=\"1\" class=\"dataframe\">\n",
       "  <thead>\n",
       "    <tr style=\"text-align: right;\">\n",
       "      <th></th>\n",
       "      <th>user_id</th>\n",
       "      <th>book_id</th>\n",
       "      <th>rating</th>\n",
       "    </tr>\n",
       "  </thead>\n",
       "  <tbody>\n",
       "    <tr>\n",
       "      <th>20</th>\n",
       "      <td>06316bec7a49286f1f98d5acce24f923</td>\n",
       "      <td>575753</td>\n",
       "      <td>4</td>\n",
       "    </tr>\n",
       "    <tr>\n",
       "      <th>21</th>\n",
       "      <td>06316bec7a49286f1f98d5acce24f923</td>\n",
       "      <td>47694</td>\n",
       "      <td>4</td>\n",
       "    </tr>\n",
       "    <tr>\n",
       "      <th>22</th>\n",
       "      <td>06316bec7a49286f1f98d5acce24f923</td>\n",
       "      <td>47700</td>\n",
       "      <td>3</td>\n",
       "    </tr>\n",
       "    <tr>\n",
       "      <th>23</th>\n",
       "      <td>06316bec7a49286f1f98d5acce24f923</td>\n",
       "      <td>47720</td>\n",
       "      <td>4</td>\n",
       "    </tr>\n",
       "    <tr>\n",
       "      <th>24</th>\n",
       "      <td>06316bec7a49286f1f98d5acce24f923</td>\n",
       "      <td>25104</td>\n",
       "      <td>5</td>\n",
       "    </tr>\n",
       "  </tbody>\n",
       "</table>\n",
       "</div>"
      ],
      "text/plain": [
       "                             user_id book_id  rating\n",
       "20  06316bec7a49286f1f98d5acce24f923  575753       4\n",
       "21  06316bec7a49286f1f98d5acce24f923   47694       4\n",
       "22  06316bec7a49286f1f98d5acce24f923   47700       3\n",
       "23  06316bec7a49286f1f98d5acce24f923   47720       4\n",
       "24  06316bec7a49286f1f98d5acce24f923   25104       5"
      ]
     },
     "execution_count": 6,
     "metadata": {},
     "output_type": "execute_result"
    }
   ],
   "source": [
    "whitelisted_df = (\n",
    "    df\n",
    "    [df['user_id'].isin(users_wl)]\n",
    "    [['user_id','book_id','rating']]\n",
    ")\n",
    "print(f'{len(whitelisted_df)} rows in user-whitelisted df')\n",
    "whitelisted_df.head()"
   ]
  },
  {
   "cell_type": "code",
   "execution_count": 10,
   "id": "6ede728b-5663-4ec1-a527-895cf8ea4ae6",
   "metadata": {},
   "outputs": [
    {
     "data": {
      "text/plain": [
       "user_id    41932\n",
       "book_id    87565\n",
       "rating         5\n",
       "dtype: int64"
      ]
     },
     "execution_count": 10,
     "metadata": {},
     "output_type": "execute_result"
    }
   ],
   "source": [
    "whitelisted_df.nunique()"
   ]
  },
  {
   "cell_type": "code",
   "execution_count": 7,
   "id": "d6e8ffe0-d8cd-45e6-b72e-c6c79200fed5",
   "metadata": {},
   "outputs": [
    {
     "data": {
      "text/plain": [
       "<AxesSubplot:ylabel='Frequency'>"
      ]
     },
     "execution_count": 7,
     "metadata": {},
     "output_type": "execute_result"
    },
    {
     "data": {
      "image/png": "[encoded data removed]",
      "text/plain": [
       "<Figure size 640x480 with 1 Axes>"
      ]
     },
     "metadata": {},
     "output_type": "display_data"
    }
   ],
   "source": [
    "whitelisted_df.groupby('user_id')['rating'].mean().plot.hist(bins=50)"
   ]
  },
  {
   "cell_type": "code",
   "execution_count": 8,
   "id": "20577c99-3c3a-487c-88c9-8be6122edf83",
   "metadata": {},
   "outputs": [
    {
     "name": "stdout",
     "output_type": "stream",
     "text": [
      "Done!\n"
     ]
    }
   ],
   "source": [
    "output_path = f'{base_dir}/goodreads_interactions_comics_graphic.csv'\n",
    "whitelisted_df.to_csv(output_path, index=False)\n",
    "print('Done!')"
   ]
  }
 ],
 "metadata": {
  "kernelspec": {
   "display_name": "Python 3 (ipykernel)",
   "language": "python",
   "name": "python3"
  },
  "language_info": {
   "codemirror_mode": {
    "name": "ipython",
    "version": 3
   },
   "file_extension": ".py",
   "mimetype": "text/x-python",
   "name": "python",
   "nbconvert_exporter": "python",
   "pygments_lexer": "ipython3",
   "version": "3.9.13"
  }
 },
 "nbformat": 4,
 "nbformat_minor": 5
}
